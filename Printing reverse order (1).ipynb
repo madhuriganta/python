{
 "cells": [
  {
   "cell_type": "markdown",
   "metadata": {},
   "source": [
    "3. Write a Python program to accept the user's first and last name and then getting them printed in the reverse order with a space between first name and last name."
   ]
  },
  {
   "cell_type": "code",
   "execution_count": 1,
   "metadata": {},
   "outputs": [
    {
     "name": "stdout",
     "output_type": "stream",
     "text": [
      "Enter your Firstname: Madhuri\n",
      "Enter your Lastname: Ganta\n",
      "Name: Madhuri Ganta \n",
      " Reverse Order: atnaG iruhdaM\n"
     ]
    }
   ],
   "source": [
    "firstname = input(\"Enter your Firstname: \")\n",
    "lastname = input(\"Enter your Lastname: \")\n",
    "name = firstname + ' ' +lastname\n",
    "print(\"Name:\",name,'\\n',\"Reverse Order:\",name[::-1])\n"
   ]
  },
  {
   "cell_type": "code",
   "execution_count": null,
   "metadata": {},
   "outputs": [],
   "source": []
  }
 ],
 "metadata": {
  "kernelspec": {
   "display_name": "Python 3",
   "language": "python",
   "name": "python3"
  },
  "language_info": {
   "codemirror_mode": {
    "name": "ipython",
    "version": 3
   },
   "file_extension": ".py",
   "mimetype": "text/x-python",
   "name": "python",
   "nbconvert_exporter": "python",
   "pygments_lexer": "ipython3",
   "version": "3.7.6"
  }
 },
 "nbformat": 4,
 "nbformat_minor": 4
}
